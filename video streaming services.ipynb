{
 "cells": [
  {
   "cell_type": "markdown",
   "metadata": {},
   "source": [
    "## Case I : Video Streaming Service"
   ]
  },
  {
   "cell_type": "markdown",
   "metadata": {},
   "source": [
    "### Case Description\n",
    "- PacFlix is a video streaming service\n",
    "- PacFlix have three plan :\n",
    "    - Basic Plan\n",
    "    - Standard Plan\n",
    "    - Premium Plan\n",
    "    "
   ]
  },
  {
   "cell_type": "markdown",
   "metadata": {},
   "source": [
    "Benefit for each plan\n",
    "| Services | Basic | Standard | Premium |\n",
    "| -------- | ----- | -------- | ------- |\n",
    "| can_steam | yes | yes | yes |\n",
    "| can_download | yes | yes | yes |\n",
    "| has_SD | yes | yes | yes | \n",
    "| has_HD | no | yes | yes |\n",
    "| has_UHD | no | no | yes |\n",
    "| devices_num | 1 | 2 | 4 |\n",
    "| content | 3rd party moview only | basic plan + sports | standard plan + pacflix original movie |\n",
    "| price | Rp. 120.000 | Rp. 160.000 | Rp. 200.000 |\n"
   ]
  },
  {
   "cell_type": "markdown",
   "metadata": {},
   "source": [
    "- PacFlix user can only subscribe to one plan \n",
    "- User can only upgrade their plan, downgrade is not allowed\n",
    "- User can upgrade their current plan to any plan above their current plan\n",
    "- If user has already subscribe to a plan >12 Months, they will receive 5% discount if they want to upgrade their plan. Example :\n",
    "    - user A already subscribed to \"Basic\" plan for 13 months\n",
    "    - They want to upgrade to \"standard\" plan\n",
    "    - Their new subscribtion fee will be :\n",
    "    **Rp. 160.000 - (Rp. 160.000*0.05) = Rp. 152.000**\n",
    "- If a new user subscribe to a plan with referral code that match with the one in database, they will receive 4% discount. Example :\n",
    "    - user B want to subscribe to \"premium\" plan\n",
    "    - they use a referral code that match, so their subscription fee will be :\n",
    "    **Rp. 200.000 - (Rp. 200.000*0.04) = Rp. 192.000**\n",
    "\n"
   ]
  },
  {
   "cell_type": "markdown",
   "metadata": {},
   "source": [
    "### Objective\n",
    "- Create a feature that user able to :\n",
    "    - Check all available plan in PacFlix\n",
    "    - Check user's current plan (if any)\n",
    "    - If the user is a current subscriber and already subsscribed to a plan more than >12 month, they will receive 0.05 discount for their new subscription plan\n",
    "    - if the user is not registered to any plan, and they planning to use a referral code that match with the one in database, the will receive 0.04 discount for their subscription plan\n",
    "- user data for reference :\n",
    "    - user name\n",
    "    - user email\n",
    "    - active plan\n",
    "    - duration plan\n",
    "    - referral code    \n",
    "\n"
   ]
  },
  {
   "cell_type": "markdown",
   "metadata": {},
   "source": [
    "### Pseudocode"
   ]
  },
  {
   "cell_type": "markdown",
   "metadata": {},
   "source": [
    "**Dictionary**\n",
    "user_database = username : str\n",
    "                email : str\n",
    "                active_plan :  \n",
    "                duration \n",
    "                referral_code\n",
    "\n",
    "available_plan =  plan_level : int | 1, 2, 3, 4\n",
    "                  plan_name : str | no_plan, basic, standard, premium \n",
    "                  can_stream : bool | yes, no\n",
    "                  can_download : bool | yes, no\n",
    "                  has_SD : \n",
    "                  has_HD :\n",
    "                  has_UHD :\n",
    "                  devices_num :\n",
    "                  content : \n",
    "                  price : \n",
    "\n",
    "**Function**\n",
    "program_login -> input : username, email\n",
    "user_detail -> check user detail in database\n",
    "subscribe -> new plan or upgrade"
   ]
  },
  {
   "cell_type": "markdown",
   "metadata": {},
   "source": [
    "### Real Code"
   ]
  },
  {
   "cell_type": "code",
   "execution_count": 1,
   "metadata": {},
   "outputs": [],
   "source": [
    "#import library\n",
    "from tabulate import tabulate\n",
    "import random\n",
    "import string"
   ]
  },
  {
   "cell_type": "code",
   "execution_count": 7,
   "metadata": {},
   "outputs": [],
   "source": [
    "userdata = {\n",
    "    \"Shandy\": [\"Basic Plan\", 12, \"shandy-2134\"],\n",
    "    \"Cahya\": [\"Standard Plan\", 24, \"cahya-abcd\"],\n",
    "    \"Ana\": [\"Premium Plan\", 5, \"ana-2f9g\"],\n",
    "    \"Bagus\": [\"Basic Plan\", 11, \"bagus-9f92\"]\n",
    "}\n",
    "\n",
    "data_list = [[\"Shandy\", \"Basic Plan\", 12, \"shandy-2134\"],\n",
    "            [\"Cahya\", \"Standard Plan\", 24, \"cahya-abcd\"],\n",
    "            [\"Ana\", \"Premium Plan\", 5, \"ana-2f9g\"],\n",
    "            [\"Bagus\", \"Basic Plan\", 11, \"bagus-9f92\"]]\n",
    "\n",
    "headers= [\"Feature\", \"Basic\", \"Standard\", \"Premium\"]\n",
    "\n",
    "plan = [[\"Stream\", True, True, True],\n",
    "        [\"Download\", True, True, False],\n",
    "        [\"SD Quality\", True, True, False],\n",
    "        [\"HD Quality\", False, True, True],\n",
    "        [\"UHD Quality\", False, False, True],\n",
    "        [\"4K\", False, False, True],\n",
    "        [\"8K\", False, False, False],\n",
    "        [\"Device Limit\", 1, 2, 4],\n",
    "        [\"Content\",\"3rd party movie only\",\"Basic Plan + sports\", \"Standard Plan + Original movies\"],\n",
    "        [\"Price\", 120_000, 160_000, 200_000]]\n",
    "\n",
    "\n",
    "plan_index = {\n",
    "            \"Basic Plan\": 1,\n",
    "            \"Standard Plan\": 2,\n",
    "            \"Premium Plan\": 3\n",
    "        }"
   ]
  },
  {
   "cell_type": "code",
   "execution_count": null,
   "metadata": {},
   "outputs": [],
   "source": [
    "# print plan as table\n",
    "print(\"Pacflix Plan List\")\n",
    "print(tabulate(plan, headers=headers, tablefmt=\"github\"))"
   ]
  },
  {
   "cell_type": "code",
   "execution_count": 43,
   "metadata": {},
   "outputs": [],
   "source": [
    "class User:\n",
    "    #init username\n",
    "    def __init__(self, username):\n",
    "        self.username = username\n",
    "        if self.username in userdata:\n",
    "            self.current_plan = userdata[self.username][0]\n",
    "            self.duration_plan = userdata[self.username][1]\n",
    "            self.referral_id = userdata[self.username][2]\n",
    "        else :\n",
    "            NewUser(self.username)\n",
    "    \n",
    "    def check_benefit(self):        \n",
    "        print(\"PacFlix Benefit Plans\")\n",
    "        print(\"\")       \n",
    "        print(tabulate(plan, headers=headers, tablefmt=\"pretty\"))\n",
    "        print(\"\")\n",
    "\n",
    "    def benefit_detail(self, plan, plan_name):      \n",
    "        # Define the headers\n",
    "        headers = [\"Feature\", plan_name]\n",
    "\n",
    "        # chek if the plan name is valid\n",
    "        if plan_name not in plan_index:\n",
    "            print(f\"Invalid plan name: {plan_name}\")\n",
    "            return\n",
    "        \n",
    "        # get the column index for the plan\n",
    "        index = plan_index[plan_name]\n",
    "\n",
    "        #select only the \"Feature\" and the plan column\n",
    "        plan_detail = [[row[0], row[index]] for row in plan]\n",
    "\n",
    "        # print the result\n",
    "        print(tabulate(plan_detail, headers=headers, tablefmt=\"pretty\"))\n",
    "\n",
    "    def check_plan(self, username):\n",
    "        #iterate through userdata\n",
    "        for key, value in userdata.items():\n",
    "            #if username is found\n",
    "            if key == username:\n",
    "                #print the user's plan\n",
    "                print(f\"Username: {key}\")\n",
    "                print(f\"Plan: {value[0]}\")\n",
    "                print(f\"Duration: {value[1]} bulan\")\n",
    "                print(\"\") \n",
    "                print(f\"{value[0]} Pacflic benefit list :\")\n",
    "                benefit_detail = self.benefit_detail(plan, value[0])\n",
    "            #if username is not found\n",
    "            else:\n",
    "                continue\n",
    "\n",
    "    def upgrade_plan(self, username, new_plan):\n",
    "        DISCOUNT = 0.05\n",
    "        for key, value in userdata.items():\n",
    "            if username == key:\n",
    "                current_plan = value[0]\n",
    "                duration = value[1]\n",
    "                index_currentplant = plan_index[current_plan]\n",
    "                index_newplan = plan_index[new_plan]\n",
    "                if index_newplan > index_currentplant:\n",
    "                    if current_plan != new_plan:\n",
    "                        if duration > 12:\n",
    "                            if new_plan == \"Basic Plan\":\n",
    "                                price = 120_000 - (120_000 * DISCOUNT)\n",
    "                                userdata[username] = [new_plan, duration, value[2]]\n",
    "                                return f\"Upgrade to {new_plan} plan success, you get 5% discount, the price is Rp {price}\"\n",
    "                            elif new_plan == \"Standard Plan\":\n",
    "                                price = 160_000 - (160_000 * DISCOUNT)\n",
    "                                userdata[username] = [new_plan, duration, value[2]]\n",
    "                                return f\"Upgrade to {new_plan} plan success, you get 5% discount, the price is Rp {price}\"\n",
    "                            elif new_plan == \"Premium Plan\":\n",
    "                                price = 200_000 - (200_000 * DISCOUNT)\n",
    "                                userdata[username] = [new_plan, duration, value[2]]\n",
    "                                return f\"Upgrade to {new_plan} plan success, you get 5% discount, the price is Rp {price}\"\n",
    "                            else:\n",
    "                                raise Exception(\"Invalid plan name\")\n",
    "                        else:\n",
    "                            if new_plan == \"Basic Plan\":\n",
    "                                userdata[username] = [new_plan, duration, value[2]]\n",
    "                                return f\"Upgrade to {new_plan} plan success, the price is Rp 120.000\"\n",
    "                            elif new_plan == \"Standard Plan\":\n",
    "                                userdata[username] = [new_plan, duration, value[2]]\n",
    "                                return f\"Upgrade to {new_plan} plan success, the price is Rp 160.000\"\n",
    "                            elif new_plan == \"Premium Plan\":\n",
    "                                userdata[username] = [new_plan, duration, value[2]]\n",
    "                                return f\"Upgrade to {new_plan} plan success, the price is Rp 200.000\"\n",
    "                            else:\n",
    "                                raise Exception(\"Invalid plan name\")\n",
    "                    elif current_plan == None:\n",
    "                        return \"You don't have any plan yet\"\n",
    "                    else:\n",
    "                        return \"You already have this plan\"\n",
    "                else:\n",
    "                    return \"You can't downgrade your plan\"   "
   ]
  },
  {
   "cell_type": "code",
   "execution_count": 54,
   "metadata": {},
   "outputs": [],
   "source": [
    "class NewUser(User):\n",
    "    def __init__(self, username):\n",
    "        self.username = username\n",
    "        if self.username in userdata:\n",
    "            print(\"Username already exist\")\n",
    "        else : \n",
    "            self.current_plan = None\n",
    "            self.duration_plan = None\n",
    "            self.referral_id = \"\"\n",
    "\n",
    "    def get_referral_id(self, userdata):\n",
    "        #get list of referral id from userdata\n",
    "        referral_id = []\n",
    "        for key, value in userdata.items():\n",
    "            referral_id.append(value[2])\n",
    "        return referral_id \n",
    "\n",
    "    def pick_plan(self, referral_id=str, plan=str):\n",
    "        DISCOUNT = 0.04\n",
    "        if referral_id in self.get_referral_id(userdata):\n",
    "            if plan == \"Basic Plan\":\n",
    "                price = 120_000 - (120_000 * DISCOUNT)\n",
    "                self.duration_plan = 0\n",
    "                self.referral_id = ''.join(random.choices(string.ascii_lowercase + string.digits, k=8))\n",
    "                userdata[self.username] = [plan, self.duration_plan, self.referral_id]\n",
    "                return f\"Pick {plan} plan success, you get 4% discount, the price is Rp {price}\"\n",
    "            elif plan == \"Standard Plan\":\n",
    "                price = 160_000 - (160_000 * DISCOUNT)\n",
    "                self.duration_plan = 0\n",
    "                self.referral_id = ''.join(random.choices(string.ascii_lowercase + string.digits, k=8))\n",
    "                userdata[self.username] = [plan, self.duration_plan, self.referral_id]\n",
    "                return f\"Pick {plan} plan success, you get 4% discount, the price is Rp {price}\"\n",
    "            elif plan == \"Premium Plan\":\n",
    "                price = 200_000 - (200_000 * DISCOUNT)\n",
    "                self.duration_plan = 0\n",
    "                self.referral_id = ''.join(random.choices(string.ascii_lowercase + string.digits, k=8))\n",
    "                userdata[self.username] = [plan, self.duration_plan, self.referral_id]\n",
    "                return f\"Pick {plan} plan success, you get 4% discount, the price is Rp {price}\"\n",
    "            else:\n",
    "                raise Exception(\"Invalid plan name\")\n",
    "        else:\n",
    "            if plan == \"Basic Plan\":\n",
    "                self.duration_plan = 0\n",
    "                self.referral_id = ''.join(random.choices(string.ascii_lowercase + string.digits, k=8))\n",
    "                userdata[self.username] = [plan, self.duration_plan, self.referral_id]\n",
    "                return f\"Pick {plan} plan success, the price is Rp 120.000\"\n",
    "            elif plan == \"Standard Plan\":\n",
    "                self.duration_plan = 0\n",
    "                self.referral_id = ''.join(random.choices(string.ascii_lowercase + string.digits, k=8))\n",
    "                userdata[self.username] = [plan, self.duration_plan, self.referral_id]\n",
    "                return f\"Pick {plan} plan success, the price is Rp 160.000\"\n",
    "            elif plan == \"Premium Plan\":\n",
    "                self.duration_plan = 0\n",
    "                self.referral_id = ''.join(random.choices(string.ascii_lowercase + string.digits, k=8))\n",
    "                userdata[self.username] = [plan, self.duration_plan, self.referral_id]\n",
    "                return f\"Pick {plan} success, the price is Rp 200.000\"\n",
    "            else:\n",
    "                raise Exception(\"Invalid plan name\")\n",
    "    \n",
    "    def check_plan(self, username):\n",
    "        print(\"You don't have any plan yet\")    "
   ]
  },
  {
   "cell_type": "code",
   "execution_count": 25,
   "metadata": {},
   "outputs": [
    {
     "name": "stdout",
     "output_type": "stream",
     "text": [
      "PacFlix Benefit Plans\n",
      "\n",
      "+--------------+----------------------+---------------------+---------------------------------+\n",
      "|   Feature    |        Basic         |      Standard       |             Premium             |\n",
      "+--------------+----------------------+---------------------+---------------------------------+\n",
      "|    Stream    |         True         |        True         |              True               |\n",
      "|   Download   |         True         |        True         |              False              |\n",
      "|  SD Quality  |         True         |        True         |              False              |\n",
      "|  HD Quality  |        False         |        True         |              True               |\n",
      "| UHD Quality  |        False         |        False        |              True               |\n",
      "|      4K      |        False         |        False        |              True               |\n",
      "|      8K      |        False         |        False        |              False              |\n",
      "| Device Limit |          1           |          2          |                4                |\n",
      "|   Content    | 3rd party movie only | Basic Plan + sports | Standard Plan + Original movies |\n",
      "|    Price     |        120000        |       160000        |             200000              |\n",
      "+--------------+----------------------+---------------------+---------------------------------+\n",
      "\n",
      "Username: Ana\n",
      "Plan: Premium Plan\n",
      "Duration: 5 bulan\n",
      "\n",
      "Premium Plan Pacflic benefit list :\n",
      "+--------------+---------------------------------+\n",
      "|   Feature    |          Premium Plan           |\n",
      "+--------------+---------------------------------+\n",
      "|    Stream    |              True               |\n",
      "|   Download   |              False              |\n",
      "|  SD Quality  |              False              |\n",
      "|  HD Quality  |              True               |\n",
      "| UHD Quality  |              True               |\n",
      "|      4K      |              True               |\n",
      "|      8K      |              False              |\n",
      "| Device Limit |                4                |\n",
      "|   Content    | Standard Plan + Original movies |\n",
      "|    Price     |             200000              |\n",
      "+--------------+---------------------------------+\n"
     ]
    }
   ],
   "source": [
    "user_1 = User(username = \"Ana\")\n",
    "user_1.check_benefit()\n",
    "user_1.check_plan(\"Ana\")"
   ]
  },
  {
   "cell_type": "code",
   "execution_count": 26,
   "metadata": {},
   "outputs": [
    {
     "name": "stdout",
     "output_type": "stream",
     "text": [
      "PacFlix Benefit Plans\n",
      "\n",
      "+--------------+----------------------+---------------------+---------------------------------+\n",
      "|   Feature    |        Basic         |      Standard       |             Premium             |\n",
      "+--------------+----------------------+---------------------+---------------------------------+\n",
      "|    Stream    |         True         |        True         |              True               |\n",
      "|   Download   |         True         |        True         |              False              |\n",
      "|  SD Quality  |         True         |        True         |              False              |\n",
      "|  HD Quality  |        False         |        True         |              True               |\n",
      "| UHD Quality  |        False         |        False        |              True               |\n",
      "|      4K      |        False         |        False        |              True               |\n",
      "|      8K      |        False         |        False        |              False              |\n",
      "| Device Limit |          1           |          2          |                4                |\n",
      "|   Content    | 3rd party movie only | Basic Plan + sports | Standard Plan + Original movies |\n",
      "|    Price     |        120000        |       160000        |             200000              |\n",
      "+--------------+----------------------+---------------------+---------------------------------+\n",
      "\n",
      "Username: Shandy\n",
      "Plan: Basic Plan\n",
      "Duration: 12 bulan\n",
      "\n",
      "Basic Plan Pacflic benefit list :\n",
      "+--------------+----------------------+\n",
      "|   Feature    |      Basic Plan      |\n",
      "+--------------+----------------------+\n",
      "|    Stream    |         True         |\n",
      "|   Download   |         True         |\n",
      "|  SD Quality  |         True         |\n",
      "|  HD Quality  |        False         |\n",
      "| UHD Quality  |        False         |\n",
      "|      4K      |        False         |\n",
      "|      8K      |        False         |\n",
      "| Device Limit |          1           |\n",
      "|   Content    | 3rd party movie only |\n",
      "|    Price     |        120000        |\n",
      "+--------------+----------------------+\n"
     ]
    }
   ],
   "source": [
    "user_2 = User(username = \"Shandy\")\n",
    "user_2.check_benefit()\n",
    "user_2.check_plan(\"Shandy\")"
   ]
  },
  {
   "cell_type": "code",
   "execution_count": 31,
   "metadata": {},
   "outputs": [
    {
     "data": {
      "text/plain": [
       "\"You can't downgrade your plan\""
      ]
     },
     "execution_count": 31,
     "metadata": {},
     "output_type": "execute_result"
    }
   ],
   "source": [
    "user_1.upgrade_plan(\"Ana\", \"Standard Plan\")"
   ]
  },
  {
   "cell_type": "code",
   "execution_count": 35,
   "metadata": {},
   "outputs": [
    {
     "name": "stdout",
     "output_type": "stream",
     "text": [
      "Username: Shandy\n",
      "Plan: Premium Plan\n",
      "Duration: 12 bulan\n",
      "\n",
      "Premium Plan Pacflic benefit list :\n",
      "+--------------+---------------------------------+\n",
      "|   Feature    |          Premium Plan           |\n",
      "+--------------+---------------------------------+\n",
      "|    Stream    |              True               |\n",
      "|   Download   |              False              |\n",
      "|  SD Quality  |              False              |\n",
      "|  HD Quality  |              True               |\n",
      "| UHD Quality  |              True               |\n",
      "|      4K      |              True               |\n",
      "|      8K      |              False              |\n",
      "| Device Limit |                4                |\n",
      "|   Content    | Standard Plan + Original movies |\n",
      "|    Price     |             200000              |\n",
      "+--------------+---------------------------------+\n"
     ]
    }
   ],
   "source": [
    "user_2.upgrade_plan(\"Shandy\", \"Premium Plan\")\n",
    "user_2.check_plan(\"Shandy\")\n"
   ]
  },
  {
   "cell_type": "code",
   "execution_count": 52,
   "metadata": {},
   "outputs": [
    {
     "data": {
      "text/plain": [
       "'Pick Premium Plan plan success, you get 4% discount, the price is Rp 192000.0'"
      ]
     },
     "execution_count": 52,
     "metadata": {},
     "output_type": "execute_result"
    }
   ],
   "source": [
    "user_3 = NewUser(username = \"Budi\")\n",
    "user_3.pick_plan(\"shandy-2134\", \"Premium Plan\")"
   ]
  },
  {
   "cell_type": "code",
   "execution_count": 53,
   "metadata": {},
   "outputs": [
    {
     "name": "stdout",
     "output_type": "stream",
     "text": [
      "{'Shandy': ['Premium Plan', 12, 'shandy-2134'], 'Cahya': ['Standard Plan', 24, 'cahya-abcd'], 'Ana': ['Premium Plan', 5, 'ana-2f9g'], 'Bagus': ['Basic Plan', 11, 'bagus-9f92'], 'Budi': ['Premium Plan', 0, 'utd0mwjc']}\n"
     ]
    }
   ],
   "source": [
    "print(userdata)"
   ]
  },
  {
   "cell_type": "code",
   "execution_count": 58,
   "metadata": {},
   "outputs": [
    {
     "name": "stdout",
     "output_type": "stream",
     "text": [
      "PacFlix Benefit Plans\n",
      "\n",
      "+--------------+----------------------+---------------------+---------------------------------+\n",
      "|   Feature    |        Basic         |      Standard       |             Premium             |\n",
      "+--------------+----------------------+---------------------+---------------------------------+\n",
      "|    Stream    |         True         |        True         |              True               |\n",
      "|   Download   |         True         |        True         |              False              |\n",
      "|  SD Quality  |         True         |        True         |              False              |\n",
      "|  HD Quality  |        False         |        True         |              True               |\n",
      "| UHD Quality  |        False         |        False        |              True               |\n",
      "|      4K      |        False         |        False        |              True               |\n",
      "|      8K      |        False         |        False        |              False              |\n",
      "| Device Limit |          1           |          2          |                4                |\n",
      "|   Content    | 3rd party movie only | Basic Plan + sports | Standard Plan + Original movies |\n",
      "|    Price     |        120000        |       160000        |             200000              |\n",
      "+--------------+----------------------+---------------------+---------------------------------+\n",
      "\n",
      "Username: Budi\n",
      "Plan: Premium Plan\n",
      "Duration: 0 bulan\n",
      "\n",
      "Premium Plan Pacflic benefit list :\n",
      "+--------------+---------------------------------+\n",
      "|   Feature    |          Premium Plan           |\n",
      "+--------------+---------------------------------+\n",
      "|    Stream    |              True               |\n",
      "|   Download   |              False              |\n",
      "|  SD Quality  |              False              |\n",
      "|  HD Quality  |              True               |\n",
      "| UHD Quality  |              True               |\n",
      "|      4K      |              True               |\n",
      "|      8K      |              False              |\n",
      "| Device Limit |                4                |\n",
      "|   Content    | Standard Plan + Original movies |\n",
      "|    Price     |             200000              |\n",
      "+--------------+---------------------------------+\n"
     ]
    }
   ],
   "source": [
    "user_3 = User(username = \"Budi\")\n",
    "user_3.check_benefit()\n",
    "user_3.check_plan(\"Budi\")"
   ]
  }
 ],
 "metadata": {
  "kernelspec": {
   "display_name": "Python 3",
   "language": "python",
   "name": "python3"
  },
  "language_info": {
   "codemirror_mode": {
    "name": "ipython",
    "version": 3
   },
   "file_extension": ".py",
   "mimetype": "text/x-python",
   "name": "python",
   "nbconvert_exporter": "python",
   "pygments_lexer": "ipython3",
   "version": "3.11.1"
  }
 },
 "nbformat": 4,
 "nbformat_minor": 2
}
