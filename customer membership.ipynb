{
 "cells": [
  {
   "cell_type": "markdown",
   "metadata": {},
   "source": [
    "## Case II : Customer Membership"
   ]
  },
  {
   "cell_type": "markdown",
   "metadata": {},
   "source": [
    "### Case Description"
   ]
  },
  {
   "cell_type": "markdown",
   "metadata": {},
   "source": [
    "- PacCommerce is e-commerce service\n",
    "- PacCommerce has 3 membership level :\n",
    "    - Platinum\n",
    "    - Gold\n",
    "    - Silver\n",
    "- Each level has its own benefit (table below)\n",
    "\n",
    "| Services | Silver | Gold | Platinum |\n",
    "| -------- | ----- | -------- | ------- |\n",
    "| Discount | 8% | 10% | 15% |\n",
    "| Food Voucher | yes | yes | yes |\n",
    "| Online Transport Voucher | no | yes | yes | \n",
    "| Holiday Voucher | no | no | yes |\n",
    "| Cashback Max. 30% | no | no | yes |\n",
    "\n",
    "- PacCommerce want to create a user prediction system to categorize to each membership\n",
    "- PacCommerce need monthly expense data and monthly user income data to make prediction\n",
    "\n",
    "| Data | Silver | Gold | Platinum |\n",
    "| -------- | ----- | -------- | ------- |\n",
    "| Monthly Expense | 5 | 6 | 8 |\n",
    "| Monthly Income | 7 | 10 | 15 |\n",
    "\n",
    "- We use euclidian distance to predict what the user will likely belong to\n",
    "- Formula : $\\mathrm{r}_{membership} = \\sqrt{(\\mathrm{expense}_{user}  - \\mathrm{expense}_{membership}  )^2 +(\\mathrm{income}_{user} - \\mathrm{income}_{membership})^2 }$\n",
    "    - $\\mathrm{r}_{silver} = \\sqrt{(\\mathrm{expense}_{user} - 5)^2 +(\\mathrm{income}_{user} - 7)^2 }$\n",
    "    - $\\mathrm{r}_{gold} = \\sqrt{(\\mathrm{expense}_{user} - 6 )^2 +(\\mathrm{income}_{user} - 10)^2 }$\n",
    "    - $\\matrhm{r}_{plat} = \\sqrt{(\\mathrm{expense}_{user} - 8 )^2 +(\\mathrm{income}_{user} - 15)^2 }$\n",
    "\n",
    "- Example : user A has expenses of 7 and income of 12\n",
    "    - $\\mathrm{r}_{silver} : \\sqrt{(7 - 5)^2 +(12 - 7)^2 } = 3.16$\n",
    "    - $\\mathrm{r}_{gold} : \\sqrt{(7 - 6 )^2 +(12 - 10)^2 } = 2.24$\n",
    "    - $\\mathrm{r}_{plat} : \\sqrt{(7 - 8 )^2 +(12 - 15)^2 } = 5.39$\n",
    "    - because $\\mathm{r}_{gold} < \\mathm{r}_{silver} < \\mathm{r}_{plat}$, then user is belong to gold membership\n",
    "\n",
    "\n"
   ]
  },
  {
   "cell_type": "markdown",
   "metadata": {},
   "source": [
    "## Objective\n",
    "- Create feature (class) where user can :\n",
    "    - show available membership tier & benefit in PacCommerce\n",
    "    - show minimum expense and or income to be included in a tier\n",
    "    - predict what user membership belong to based on expenses and income parameter\n",
    "    - calculate example total checkout price in PacCommerce based on user membership\n",
    "- Data available :\n",
    "    - User Data :\n",
    "        - User Name\n",
    "        - Monthly Expenses\n",
    "        - Monthly Income\n",
    "        - Membership     "
   ]
  },
  {
   "cell_type": "code",
   "execution_count": 21,
   "metadata": {},
   "outputs": [],
   "source": [
    "# Import Library\n",
    "from tabulate import tabulate\n",
    "import math\n"
   ]
  },
  {
   "cell_type": "code",
   "execution_count": 74,
   "metadata": {},
   "outputs": [
    {
     "name": "stdout",
     "output_type": "stream",
     "text": [
      "| Benefit                  |   Silver |   Gold |   Platinum |\n",
      "|--------------------------|----------|--------|------------|\n",
      "| Discount                 |     0.08 |    0.1 |       0.15 |\n",
      "| Food Voucher             |     1    |    1   |       1    |\n",
      "| Online Transport Voucher |     0    |    1   |       1    |\n",
      "| Holiday Voucher          |     0    |    0   |       1    |\n",
      "| Cashback                 |     0    |    0   |       0.3  |\n"
     ]
    }
   ],
   "source": [
    "# Membership Table\n",
    "headers= [\"Benefit\", \"Silver\", \"Gold\", \"Platinum\"]\n",
    "\n",
    "membership = [[\"Discount\", 0.08, 0.1, 0.15],\n",
    "        [\"Food Voucher\", True, True, True],\n",
    "        [\"Online Transport Voucher\", False, True, True],\n",
    "        [\"Holiday Voucher\", False, False, True],\n",
    "        [\"Cashback\", 0, 0, 0.3]]\n",
    "\n",
    "print(tabulate(membership, headers, tablefmt=\"github\"))"
   ]
  },
  {
   "cell_type": "code",
   "execution_count": 15,
   "metadata": {},
   "outputs": [
    {
     "name": "stdout",
     "output_type": "stream",
     "text": [
      "| Service         |   Silver |     Gold |   Platinum |\n",
      "|-----------------|----------|----------|------------|\n",
      "| Monthly Expense |  5000000 |  6000000 |    8000000 |\n",
      "| Monthly Income  |  7000000 | 10000000 |   15000000 |\n"
     ]
    }
   ],
   "source": [
    "# Membership Requirement Table\n",
    "headers2= [\"Service\", \"Silver\", \"Gold\", \"Platinum\"]\n",
    "\n",
    "membership_req = [[\"Monthly Expense\", 5_000_000, 6_000_000, 8_000_000],\n",
    "                  [\"Monthly Income\", 7_000_000, 10_000_000, 15_000_000]]\n",
    "\n",
    "print(tabulate(membership_req, headers, tablefmt=\"github\"))"
   ]
  },
  {
   "cell_type": "code",
   "execution_count": 55,
   "metadata": {},
   "outputs": [],
   "source": [
    "# Existing Member\n",
    "member_list = { \"Sumbul\" : \"Platinum\", \n",
    "               \"Ana\" : \"Gold\",\n",
    "                \"Cahya \" :  \"Platinum\" }"
   ]
  },
  {
   "cell_type": "code",
   "execution_count": 92,
   "metadata": {},
   "outputs": [],
   "source": [
    "class Member:\n",
    "    def __init__(self, username):\n",
    "        self.username = username\n",
    "        if self.username in member_list.keys():\n",
    "            self.membership_type = member_list.values()\n",
    "            self.grocery = []\n",
    "        else:        \n",
    "            self.membership_type = \"\"\n",
    "            self.membership_discount = 0\n",
    "            self.food_voucher = False\n",
    "            self.online_transport_voucher = False\n",
    "            self.holiday_voucher = False\n",
    "            self.cashback = 0\n",
    "            self.grocery = []\n",
    "\n",
    "    def available_membership(self):\n",
    "        print(\"PacCommerce Membership Plans\")\n",
    "        print(\"\")       \n",
    "        print(tabulate(membership, headers=headers, tablefmt=\"pretty\"))\n",
    "        print(\"\")\n",
    "\n",
    "    def membership_requirement(self):\n",
    "        print(\"PacCommerce Membership Requirement\")\n",
    "        print(\"\")       \n",
    "        print(tabulate(membership_req, headers=headers2, tablefmt=\"pretty\"))\n",
    "        print(\"\")\n",
    "\n",
    "    def predict_membership(self, monthly_expense, monthly_income):\n",
    "        silver = math.sqrt((5_000_000 - monthly_expense)**2 + (7_000_000 - monthly_income)**2)\n",
    "        gold = math.sqrt((6_000_000 - monthly_expense)**2 + (10_000_000 - monthly_income)**2)\n",
    "        platinum = math.sqrt((8_000_000 - monthly_expense)**2 + (15_000_000 - monthly_income)**2)\n",
    "\n",
    "        if silver < gold and silver < platinum:\n",
    "            print(\"Your monthly expense is\", monthly_expense)\n",
    "            print(\"Your monthly income is\", monthly_income)\n",
    "            print(\"You are eligible for Silver Membership\")\n",
    "            self.membership_type = \"Silver\"\n",
    "            self.membership_discount = 0.08\n",
    "            self.food_voucher = True\n",
    "            member_list[self.username] = self.membership_type\n",
    "\n",
    "        elif gold < silver and gold < platinum:\n",
    "            print(\"Your monthly expense is\", monthly_expense)\n",
    "            print(\"Your monthly income is\", monthly_income)\n",
    "            print(\"You are eligible for Gold Membership\")\n",
    "            self.membership_type = \"Gold\"\n",
    "            self.membership_discount = 0.1\n",
    "            self.food_voucher = True\n",
    "            self.online_transport_voucher = True\n",
    "            member_list[self.username] = self.membership_type\n",
    "\n",
    "        else:\n",
    "            print(\"Your monthly expense is\", monthly_expense)\n",
    "            print(\"Your monthly income is\", monthly_income)\n",
    "            print(\"You are eligible for Platinum Membership\")\n",
    "            self.membership_type = \"Platinum\"\n",
    "            self.membership_discount = 0.15\n",
    "            self.food_voucher = True\n",
    "            self.online_transport_voucher = True\n",
    "            self.holiday_voucher = True\n",
    "            self.cashback = 0.3\n",
    "            member_list[self.username] = self.membership_type\n",
    "\n",
    "    def get_membership(self):\n",
    "        if self.membership_type == \"Silver\":\n",
    "            print(\"You are a Silver Member\")\n",
    "            print(\"You have a discount of 8%\")\n",
    "            print(\"You have a Food Voucher\")\n",
    "        elif self.membership_type == \"Gold\":\n",
    "            print(\"You are a Gold Member\")\n",
    "            print(\"You have a discount of 10%\")\n",
    "            print(\"You have a Food Voucher\")\n",
    "            print(\"You have an Online Transport Voucher\")\n",
    "        else:\n",
    "            print(\"You are a Platinum Member\")\n",
    "            print(\"You have a discount of 15%\")\n",
    "            print(\"You have a Food Voucher\")\n",
    "            print(\"You have an Online Transport Voucher\")\n",
    "            print(\"You have a Holiday Voucher\")\n",
    "            print(\"You have a Cashback of 30%\") \n",
    "\n",
    "    def calculate_expenses(self):\n",
    "        grocery = self.grocery\n",
    "        while True:\n",
    "            try:\n",
    "                grocery.append(float(input(\"Enter the price of the grocery item: \")))\n",
    "                more_items = input(\"Do you want to add more items? (y/n): \").strip().lower()\n",
    "                if more_items == \"n\":\n",
    "                    break\n",
    "                elif more_items == \"y\":\n",
    "                    continue\n",
    "                else:\n",
    "                    print(\"Please enter 'y' or 'n'.\")\n",
    "            except ValueError:\n",
    "                print(\"Please enter a valid number.\")\n",
    "        \n",
    "        if self.membership_type == \"Silver\":\n",
    "            total = sum(grocery) - (sum(grocery) * 0.08)\n",
    "        elif self.membership_type == \"Gold\":\n",
    "            total = sum(grocery) - (sum(grocery) * 0.1)\n",
    "        else:\n",
    "            total = sum(grocery) - (sum(grocery) * 0.15)\n",
    "        print(\"Your total expense is\", total)\n",
    "\n",
    "                "
   ]
  },
  {
   "cell_type": "code",
   "execution_count": 80,
   "metadata": {},
   "outputs": [
    {
     "name": "stdout",
     "output_type": "stream",
     "text": [
      "PacCommerce Membership Plans\n",
      "\n",
      "+--------------------------+--------+-------+----------+\n",
      "|         Benefit          | Silver | Gold  | Platinum |\n",
      "+--------------------------+--------+-------+----------+\n",
      "|         Discount         |  0.08  |  0.1  |   0.15   |\n",
      "|       Food Voucher       |  True  | True  |   True   |\n",
      "| Online Transport Voucher | False  | True  |   True   |\n",
      "|     Holiday Voucher      | False  | False |   True   |\n",
      "|         Cashback         |   0    |   0   |   0.3    |\n",
      "+--------------------------+--------+-------+----------+\n",
      "\n",
      "PacCommerce Membership Requirement\n",
      "\n",
      "+-----------------+---------+----------+----------+\n",
      "|     Service     | Silver  |   Gold   | Platinum |\n",
      "+-----------------+---------+----------+----------+\n",
      "| Monthly Expense | 5000000 | 6000000  | 8000000  |\n",
      "| Monthly Income  | 7000000 | 10000000 | 15000000 |\n",
      "+-----------------+---------+----------+----------+\n",
      "\n",
      "Your monthly expense is 7000000\n",
      "Your monthly income is 12000000\n",
      "You are eligible for Gold Membership\n",
      "You are a Gold Member\n",
      "You have a discount of 10%\n",
      "You have a Food Voucher\n",
      "You have an Online Transport Voucher\n",
      "None\n",
      "{'Sumbul': 'Platinum', 'Ana': 'Gold', 'Cahya ': 'Platinum', 'Albar': 'Gold'}\n"
     ]
    }
   ],
   "source": [
    "#test unit\n",
    "user1 = Member(\"Albar\")\n",
    "user1.available_membership()\n",
    "user1.membership_requirement()\n",
    "user1.predict_membership(7_000_000, 12_000_000)\n",
    "print(user1.get_membership())\n",
    "print(member_list)"
   ]
  },
  {
   "cell_type": "code",
   "execution_count": 62,
   "metadata": {},
   "outputs": [
    {
     "name": "stdout",
     "output_type": "stream",
     "text": [
      "Please enter a valid number.\n",
      "Please enter a valid number.\n",
      "Please enter a valid number.\n",
      "Please enter a valid number.\n",
      "Please enter a valid number.\n",
      "Please enter a valid number.\n",
      "Please enter a valid number.\n",
      "Please enter a valid number.\n",
      "Please enter a valid number.\n",
      "Please enter a valid number.\n"
     ]
    },
    {
     "data": {
      "text/plain": [
       "50000.0"
      ]
     },
     "execution_count": 62,
     "metadata": {},
     "output_type": "execute_result"
    }
   ],
   "source": [
    "user1.calculate_expenses()"
   ]
  },
  {
   "cell_type": "code",
   "execution_count": 93,
   "metadata": {},
   "outputs": [
    {
     "name": "stdout",
     "output_type": "stream",
     "text": [
      "You are a Platinum Member\n",
      "You have a discount of 15%\n",
      "You have a Food Voucher\n",
      "You have an Online Transport Voucher\n",
      "You have a Holiday Voucher\n",
      "You have a Cashback of 30%\n",
      "Your total expense is 637500.0\n"
     ]
    }
   ],
   "source": [
    "user2 = Member(\"Ana\")\n",
    "user2.get_membership()\n",
    "user2.calculate_expenses()"
   ]
  }
 ],
 "metadata": {
  "kernelspec": {
   "display_name": "Python 3",
   "language": "python",
   "name": "python3"
  },
  "language_info": {
   "codemirror_mode": {
    "name": "ipython",
    "version": 3
   },
   "file_extension": ".py",
   "mimetype": "text/x-python",
   "name": "python",
   "nbconvert_exporter": "python",
   "pygments_lexer": "ipython3",
   "version": "3.11.1"
  }
 },
 "nbformat": 4,
 "nbformat_minor": 2
}
